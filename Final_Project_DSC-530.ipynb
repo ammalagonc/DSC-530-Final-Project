{
 "cells": [
  {
   "cell_type": "markdown",
   "metadata": {},
   "source": [
    "# DSC-530 Exploratory Data Analysis\n",
    "## Final Project -  An Analysis of Tropical Storms from 1851-2015\n",
    "\n",
    "By Ambrose M Malagon Cordero"
   ]
  },
  {
   "cell_type": "markdown",
   "metadata": {},
   "source": [
    " ### Data Sets "
   ]
  },
  {
   "cell_type": "markdown",
   "metadata": {},
   "source": [
    "The following Data Sets where used for this analysis:\n",
    "* ”atlantic.csv” file from the Hurricanes and Typhoons, 1851-2014 dataset.\n",
    "    Author: NOAA – link: https://www.kaggle.com/noaa/hurricane-database\u000b",
    "\n",
    "* ”GlobalTemperatures.csv” file from the Climate Change: Earth Surface Temperature Data - Exploring global temperatures since 1750 dataset.\n",
    "    Author: Berkeley Earth – link: https://www.kaggle.com/berkeleyearth/climate-change-earth-surface-temperature-data#GlobalTemperatures.csv"
   ]
  },
  {
   "cell_type": "markdown",
   "metadata": {},
   "source": [
    "#### ”atlantic.csv”\n",
    "\n",
    "This data contains 49,106 observations from starting from 1851 of recorded tropical storm information in a 6 hour increment, per day per. Variables initially chosen from this dataset:\n",
    "* ID – Unique identifier per phenomenon\n",
    "* Date – Integer that represents the date in YYYYMMDD format\n",
    "* Event – Coded as follows:\n",
    "    * C – Closest approach to a coast, not followed by a landfall \n",
    "    * G – Genesis \n",
    "    * I – An intensity peak in terms of both pressure and wind \n",
    "    * L – Landfall (center of system crossing a coastline) \n",
    "    * P – Minimum in central pressure \n",
    "    * R – Provides additional detail on the intensity of the cyclone when rapid changes are underway \n",
    "    * S – Change of status of the system \n",
    "    * T – Provides additional detail on the track (position) of the cyclone \n",
    "    * W – Maximum sustained wind speed \n",
    "* Status – Status of System:\n",
    "    * TD – Tropical cyclone of tropical depression intensity (< 34 knots) \n",
    "    * TS – Tropical cyclone of tropical storm intensity (34-63 knots) \n",
    "    * HU – Tropical cyclone of hurricane intensity (> 64 knots) \n",
    "    * EX – Extratropical cyclone (of any intensity) \n",
    "    * SD – Subtropical cyclone of subtropical depression intensity (< 34 knots) \n",
    "    * SS – Subtropical cyclone of subtropical storm intensity (> 34 knots) \n",
    "    * LO – A low that is neither a tropical cyclone, a subtropical cyclone, nor an extratropical cyclone (of any intensity) \n",
    "    * WV – Tropical Wave (of any intensity) \n",
    "    * DB – Disturbance (of any intensity) \n",
    "* Maximum Wind – defined as the maximum 1-min average wind associated with the tropical cyclone at an elevation of 10 m with an unobstructed exposure - knots. \n"
   ]
  },
  {
   "cell_type": "markdown",
   "metadata": {},
   "source": [
    "#### ”GlobalTemperatures.csv”\n",
    "\n",
    "This data set contains a total 3,192 observations, which constitute of weather averages by month per year. The variables chosen from this dataset:\n",
    "* LandAverageTemperature – In Celsius\n",
    "* LandAndOceanAverageTemperature – In Celsius.\n"
   ]
  },
  {
   "cell_type": "markdown",
   "metadata": {},
   "source": [
    "__________________________________________________________________________________________________________________\n",
    "### Python Modules\n",
    "\n",
    "For this analysis, we are going to import the following modules:"
   ]
  },
  {
   "cell_type": "code",
   "execution_count": 1,
   "metadata": {},
   "outputs": [],
   "source": [
    "import pandas as pd\n",
    "import numpy as np\n",
    "import matplotlib.pyplot as plt\n",
    "import matplotlib\n",
    "from scipy.stats import norm\n",
    "import scipy as sp\n",
    "from scipy.stats.stats import pearsonr \n",
    "from scipy.stats.stats import spearmanr\n",
    "from scipy.stats import ttest_ind\n",
    "from statistics import stdev\n",
    "from scipy.stats import chi2_contingency\n",
    "from scipy import stats\n",
    "import decimal\n",
    "import statsmodels.formula.api as smf\n",
    "from scipy.stats import pareto"
   ]
  },
  {
   "cell_type": "markdown",
   "metadata": {},
   "source": [
    "------------------------------------------"
   ]
  },
  {
   "cell_type": "markdown",
   "metadata": {},
   "source": [
    "### Data Preparation"
   ]
  },
  {
   "cell_type": "code",
   "execution_count": 2,
   "metadata": {},
   "outputs": [
    {
     "data": {
      "text/html": [
       "<div>\n",
       "<style scoped>\n",
       "    .dataframe tbody tr th:only-of-type {\n",
       "        vertical-align: middle;\n",
       "    }\n",
       "\n",
       "    .dataframe tbody tr th {\n",
       "        vertical-align: top;\n",
       "    }\n",
       "\n",
       "    .dataframe thead th {\n",
       "        text-align: right;\n",
       "    }\n",
       "</style>\n",
       "<table border=\"1\" class=\"dataframe\">\n",
       "  <thead>\n",
       "    <tr style=\"text-align: right;\">\n",
       "      <th></th>\n",
       "      <th>ID</th>\n",
       "      <th>Date</th>\n",
       "      <th>Status</th>\n",
       "      <th>Time</th>\n",
       "      <th>Maximum Wind</th>\n",
       "      <th>Minimum Pressure</th>\n",
       "      <th>Low Wind NE</th>\n",
       "      <th>Low Wind SE</th>\n",
       "      <th>Low Wind SW</th>\n",
       "      <th>Low Wind NW</th>\n",
       "      <th>...</th>\n",
       "      <th>Moderate Wind SW</th>\n",
       "      <th>Moderate Wind NW</th>\n",
       "      <th>High Wind NE</th>\n",
       "      <th>High Wind SE</th>\n",
       "      <th>High Wind SW</th>\n",
       "      <th>High Wind NW</th>\n",
       "      <th>count</th>\n",
       "      <th>dt</th>\n",
       "      <th>year</th>\n",
       "      <th>month</th>\n",
       "    </tr>\n",
       "  </thead>\n",
       "  <tbody>\n",
       "    <tr>\n",
       "      <th>0</th>\n",
       "      <td>AL011851</td>\n",
       "      <td>18510625</td>\n",
       "      <td>HU</td>\n",
       "      <td>1140.0</td>\n",
       "      <td>80.000000</td>\n",
       "      <td>-999.0</td>\n",
       "      <td>-999.0</td>\n",
       "      <td>-999.0</td>\n",
       "      <td>-999.0</td>\n",
       "      <td>-999.0</td>\n",
       "      <td>...</td>\n",
       "      <td>-999.0</td>\n",
       "      <td>-999.0</td>\n",
       "      <td>-999.0</td>\n",
       "      <td>-999.0</td>\n",
       "      <td>-999.0</td>\n",
       "      <td>-999.0</td>\n",
       "      <td>1.0</td>\n",
       "      <td>1851-06-25</td>\n",
       "      <td>1851</td>\n",
       "      <td>1851-06-01</td>\n",
       "    </tr>\n",
       "    <tr>\n",
       "      <th>1</th>\n",
       "      <td>AL011851</td>\n",
       "      <td>18510626</td>\n",
       "      <td>HU</td>\n",
       "      <td>0.0</td>\n",
       "      <td>70.000000</td>\n",
       "      <td>-999.0</td>\n",
       "      <td>-999.0</td>\n",
       "      <td>-999.0</td>\n",
       "      <td>-999.0</td>\n",
       "      <td>-999.0</td>\n",
       "      <td>...</td>\n",
       "      <td>-999.0</td>\n",
       "      <td>-999.0</td>\n",
       "      <td>-999.0</td>\n",
       "      <td>-999.0</td>\n",
       "      <td>-999.0</td>\n",
       "      <td>-999.0</td>\n",
       "      <td>1.0</td>\n",
       "      <td>1851-06-26</td>\n",
       "      <td>1851</td>\n",
       "      <td>1851-06-01</td>\n",
       "    </tr>\n",
       "    <tr>\n",
       "      <th>2</th>\n",
       "      <td>AL011851</td>\n",
       "      <td>18510626</td>\n",
       "      <td>TS</td>\n",
       "      <td>1200.0</td>\n",
       "      <td>56.666667</td>\n",
       "      <td>-999.0</td>\n",
       "      <td>-999.0</td>\n",
       "      <td>-999.0</td>\n",
       "      <td>-999.0</td>\n",
       "      <td>-999.0</td>\n",
       "      <td>...</td>\n",
       "      <td>-999.0</td>\n",
       "      <td>-999.0</td>\n",
       "      <td>-999.0</td>\n",
       "      <td>-999.0</td>\n",
       "      <td>-999.0</td>\n",
       "      <td>-999.0</td>\n",
       "      <td>1.0</td>\n",
       "      <td>1851-06-26</td>\n",
       "      <td>1851</td>\n",
       "      <td>1851-06-01</td>\n",
       "    </tr>\n",
       "    <tr>\n",
       "      <th>3</th>\n",
       "      <td>AL011851</td>\n",
       "      <td>18510627</td>\n",
       "      <td>TS</td>\n",
       "      <td>900.0</td>\n",
       "      <td>42.500000</td>\n",
       "      <td>-999.0</td>\n",
       "      <td>-999.0</td>\n",
       "      <td>-999.0</td>\n",
       "      <td>-999.0</td>\n",
       "      <td>-999.0</td>\n",
       "      <td>...</td>\n",
       "      <td>-999.0</td>\n",
       "      <td>-999.0</td>\n",
       "      <td>-999.0</td>\n",
       "      <td>-999.0</td>\n",
       "      <td>-999.0</td>\n",
       "      <td>-999.0</td>\n",
       "      <td>1.0</td>\n",
       "      <td>1851-06-27</td>\n",
       "      <td>1851</td>\n",
       "      <td>1851-06-01</td>\n",
       "    </tr>\n",
       "    <tr>\n",
       "      <th>4</th>\n",
       "      <td>AL011851</td>\n",
       "      <td>18510628</td>\n",
       "      <td>TS</td>\n",
       "      <td>0.0</td>\n",
       "      <td>40.000000</td>\n",
       "      <td>-999.0</td>\n",
       "      <td>-999.0</td>\n",
       "      <td>-999.0</td>\n",
       "      <td>-999.0</td>\n",
       "      <td>-999.0</td>\n",
       "      <td>...</td>\n",
       "      <td>-999.0</td>\n",
       "      <td>-999.0</td>\n",
       "      <td>-999.0</td>\n",
       "      <td>-999.0</td>\n",
       "      <td>-999.0</td>\n",
       "      <td>-999.0</td>\n",
       "      <td>1.0</td>\n",
       "      <td>1851-06-28</td>\n",
       "      <td>1851</td>\n",
       "      <td>1851-06-01</td>\n",
       "    </tr>\n",
       "  </tbody>\n",
       "</table>\n",
       "<p>5 rows × 22 columns</p>\n",
       "</div>"
      ],
      "text/plain": [
       "         ID      Date Status    Time  Maximum Wind  Minimum Pressure  \\\n",
       "0  AL011851  18510625     HU  1140.0     80.000000            -999.0   \n",
       "1  AL011851  18510626     HU     0.0     70.000000            -999.0   \n",
       "2  AL011851  18510626     TS  1200.0     56.666667            -999.0   \n",
       "3  AL011851  18510627     TS   900.0     42.500000            -999.0   \n",
       "4  AL011851  18510628     TS     0.0     40.000000            -999.0   \n",
       "\n",
       "   Low Wind NE  Low Wind SE  Low Wind SW  Low Wind NW    ...      \\\n",
       "0       -999.0       -999.0       -999.0       -999.0    ...       \n",
       "1       -999.0       -999.0       -999.0       -999.0    ...       \n",
       "2       -999.0       -999.0       -999.0       -999.0    ...       \n",
       "3       -999.0       -999.0       -999.0       -999.0    ...       \n",
       "4       -999.0       -999.0       -999.0       -999.0    ...       \n",
       "\n",
       "   Moderate Wind SW  Moderate Wind NW  High Wind NE  High Wind SE  \\\n",
       "0            -999.0            -999.0        -999.0        -999.0   \n",
       "1            -999.0            -999.0        -999.0        -999.0   \n",
       "2            -999.0            -999.0        -999.0        -999.0   \n",
       "3            -999.0            -999.0        -999.0        -999.0   \n",
       "4            -999.0            -999.0        -999.0        -999.0   \n",
       "\n",
       "   High Wind SW  High Wind NW  count         dt  year      month  \n",
       "0        -999.0        -999.0    1.0 1851-06-25  1851 1851-06-01  \n",
       "1        -999.0        -999.0    1.0 1851-06-26  1851 1851-06-01  \n",
       "2        -999.0        -999.0    1.0 1851-06-26  1851 1851-06-01  \n",
       "3        -999.0        -999.0    1.0 1851-06-27  1851 1851-06-01  \n",
       "4        -999.0        -999.0    1.0 1851-06-28  1851 1851-06-01  \n",
       "\n",
       "[5 rows x 22 columns]"
      ]
     },
     "execution_count": 2,
     "metadata": {},
     "output_type": "execute_result"
    }
   ],
   "source": [
    "# Exporting 'atlantic.csv' and adding the count column equals to 1, which we will use to determine to count \n",
    "# the number of days an event was active. \n",
    "df_at = pd.read_csv('atlantic.csv')\n",
    "df_at['count'] = 1\n",
    "\n",
    "# First Grouping: \n",
    "# df_at by ID, Date and Status and get the mean of the remaining variables and storing the resulting data-\n",
    "# frame as dt_atmean\n",
    "df_atmean = df_at.groupby(['ID', 'Date','Status']).mean()\n",
    "df_atmean = df_atmean.reset_index()\n",
    "\n",
    "# Add the 'dt' field, which we will use later to join\n",
    "df_atmean['dt'] = df_atmean['Date'].apply(lambda x: pd.to_datetime(str(x), format='%Y%m%d'))\n",
    "df_atmean['year'] = df_atmean['dt'].dt.year\n",
    "df_atmean['month'] = df_atmean['dt'].values.astype('datetime64[M]')\n",
    "\n",
    "# Sampe of first 5 rows\n",
    "df_atmean.head()"
   ]
  },
  {
   "cell_type": "code",
   "execution_count": 3,
   "metadata": {},
   "outputs": [
    {
     "data": {
      "text/html": [
       "<div>\n",
       "<style scoped>\n",
       "    .dataframe tbody tr th:only-of-type {\n",
       "        vertical-align: middle;\n",
       "    }\n",
       "\n",
       "    .dataframe tbody tr th {\n",
       "        vertical-align: top;\n",
       "    }\n",
       "\n",
       "    .dataframe thead th {\n",
       "        text-align: right;\n",
       "    }\n",
       "</style>\n",
       "<table border=\"1\" class=\"dataframe\">\n",
       "  <thead>\n",
       "    <tr style=\"text-align: right;\">\n",
       "      <th></th>\n",
       "      <th>year</th>\n",
       "      <th>ID</th>\n",
       "      <th>Date</th>\n",
       "      <th>Time</th>\n",
       "      <th>Maximum Wind</th>\n",
       "      <th>Minimum Pressure</th>\n",
       "      <th>Low Wind NE</th>\n",
       "      <th>Low Wind SE</th>\n",
       "      <th>Low Wind SW</th>\n",
       "      <th>Low Wind NW</th>\n",
       "      <th>Moderate Wind NE</th>\n",
       "      <th>Moderate Wind SE</th>\n",
       "      <th>Moderate Wind SW</th>\n",
       "      <th>Moderate Wind NW</th>\n",
       "      <th>High Wind NE</th>\n",
       "      <th>High Wind SE</th>\n",
       "      <th>High Wind SW</th>\n",
       "      <th>High Wind NW</th>\n",
       "      <th>count</th>\n",
       "    </tr>\n",
       "  </thead>\n",
       "  <tbody>\n",
       "    <tr>\n",
       "      <th>0</th>\n",
       "      <td>1851</td>\n",
       "      <td>AL011851</td>\n",
       "      <td>74042506</td>\n",
       "      <td>2940.0</td>\n",
       "      <td>222.5</td>\n",
       "      <td>-3996.0</td>\n",
       "      <td>-3996.0</td>\n",
       "      <td>-3996.0</td>\n",
       "      <td>-3996.0</td>\n",
       "      <td>-3996.0</td>\n",
       "      <td>-3996.0</td>\n",
       "      <td>-3996.0</td>\n",
       "      <td>-3996.0</td>\n",
       "      <td>-3996.0</td>\n",
       "      <td>-3996.0</td>\n",
       "      <td>-3996.0</td>\n",
       "      <td>-3996.0</td>\n",
       "      <td>-3996.0</td>\n",
       "      <td>4.0</td>\n",
       "    </tr>\n",
       "    <tr>\n",
       "      <th>1</th>\n",
       "      <td>1851</td>\n",
       "      <td>AL021851</td>\n",
       "      <td>18510705</td>\n",
       "      <td>1200.0</td>\n",
       "      <td>80.0</td>\n",
       "      <td>-999.0</td>\n",
       "      <td>-999.0</td>\n",
       "      <td>-999.0</td>\n",
       "      <td>-999.0</td>\n",
       "      <td>-999.0</td>\n",
       "      <td>-999.0</td>\n",
       "      <td>-999.0</td>\n",
       "      <td>-999.0</td>\n",
       "      <td>-999.0</td>\n",
       "      <td>-999.0</td>\n",
       "      <td>-999.0</td>\n",
       "      <td>-999.0</td>\n",
       "      <td>-999.0</td>\n",
       "      <td>1.0</td>\n",
       "    </tr>\n",
       "    <tr>\n",
       "      <th>2</th>\n",
       "      <td>1851</td>\n",
       "      <td>AL031851</td>\n",
       "      <td>18510710</td>\n",
       "      <td>1200.0</td>\n",
       "      <td>50.0</td>\n",
       "      <td>-999.0</td>\n",
       "      <td>-999.0</td>\n",
       "      <td>-999.0</td>\n",
       "      <td>-999.0</td>\n",
       "      <td>-999.0</td>\n",
       "      <td>-999.0</td>\n",
       "      <td>-999.0</td>\n",
       "      <td>-999.0</td>\n",
       "      <td>-999.0</td>\n",
       "      <td>-999.0</td>\n",
       "      <td>-999.0</td>\n",
       "      <td>-999.0</td>\n",
       "      <td>-999.0</td>\n",
       "      <td>1.0</td>\n",
       "    </tr>\n",
       "    <tr>\n",
       "      <th>3</th>\n",
       "      <td>1851</td>\n",
       "      <td>AL041851</td>\n",
       "      <td>222129858</td>\n",
       "      <td>11040.0</td>\n",
       "      <td>772.5</td>\n",
       "      <td>-11988.0</td>\n",
       "      <td>-11988.0</td>\n",
       "      <td>-11988.0</td>\n",
       "      <td>-11988.0</td>\n",
       "      <td>-11988.0</td>\n",
       "      <td>-11988.0</td>\n",
       "      <td>-11988.0</td>\n",
       "      <td>-11988.0</td>\n",
       "      <td>-11988.0</td>\n",
       "      <td>-11988.0</td>\n",
       "      <td>-11988.0</td>\n",
       "      <td>-11988.0</td>\n",
       "      <td>-11988.0</td>\n",
       "      <td>12.0</td>\n",
       "    </tr>\n",
       "    <tr>\n",
       "      <th>4</th>\n",
       "      <td>1851</td>\n",
       "      <td>AL051851</td>\n",
       "      <td>74043658</td>\n",
       "      <td>3600.0</td>\n",
       "      <td>200.0</td>\n",
       "      <td>-3996.0</td>\n",
       "      <td>-3996.0</td>\n",
       "      <td>-3996.0</td>\n",
       "      <td>-3996.0</td>\n",
       "      <td>-3996.0</td>\n",
       "      <td>-3996.0</td>\n",
       "      <td>-3996.0</td>\n",
       "      <td>-3996.0</td>\n",
       "      <td>-3996.0</td>\n",
       "      <td>-3996.0</td>\n",
       "      <td>-3996.0</td>\n",
       "      <td>-3996.0</td>\n",
       "      <td>-3996.0</td>\n",
       "      <td>4.0</td>\n",
       "    </tr>\n",
       "  </tbody>\n",
       "</table>\n",
       "</div>"
      ],
      "text/plain": [
       "   year        ID       Date     Time  Maximum Wind  Minimum Pressure  \\\n",
       "0  1851  AL011851   74042506   2940.0         222.5           -3996.0   \n",
       "1  1851  AL021851   18510705   1200.0          80.0            -999.0   \n",
       "2  1851  AL031851   18510710   1200.0          50.0            -999.0   \n",
       "3  1851  AL041851  222129858  11040.0         772.5          -11988.0   \n",
       "4  1851  AL051851   74043658   3600.0         200.0           -3996.0   \n",
       "\n",
       "   Low Wind NE  Low Wind SE  Low Wind SW  Low Wind NW  Moderate Wind NE  \\\n",
       "0      -3996.0      -3996.0      -3996.0      -3996.0           -3996.0   \n",
       "1       -999.0       -999.0       -999.0       -999.0            -999.0   \n",
       "2       -999.0       -999.0       -999.0       -999.0            -999.0   \n",
       "3     -11988.0     -11988.0     -11988.0     -11988.0          -11988.0   \n",
       "4      -3996.0      -3996.0      -3996.0      -3996.0           -3996.0   \n",
       "\n",
       "   Moderate Wind SE  Moderate Wind SW  Moderate Wind NW  High Wind NE  \\\n",
       "0           -3996.0           -3996.0           -3996.0       -3996.0   \n",
       "1            -999.0            -999.0            -999.0        -999.0   \n",
       "2            -999.0            -999.0            -999.0        -999.0   \n",
       "3          -11988.0          -11988.0          -11988.0      -11988.0   \n",
       "4           -3996.0           -3996.0           -3996.0       -3996.0   \n",
       "\n",
       "   High Wind SE  High Wind SW  High Wind NW  count  \n",
       "0       -3996.0       -3996.0       -3996.0    4.0  \n",
       "1        -999.0        -999.0        -999.0    1.0  \n",
       "2        -999.0        -999.0        -999.0    1.0  \n",
       "3      -11988.0      -11988.0      -11988.0   12.0  \n",
       "4       -3996.0       -3996.0       -3996.0    4.0  "
      ]
     },
     "execution_count": 3,
     "metadata": {},
     "output_type": "execute_result"
    }
   ],
   "source": [
    "# Second Grouping\n",
    "# Grouping df_at by ID and Date to get the total dayes each hurricane lasted and storing it as days_count.\n",
    "df_days = df_at.groupby(['ID', 'Date']).mean()\n",
    "df_days = df_days.reset_index()\n",
    "df_days['dt'] = df_days['Date'].apply(lambda x: pd.to_datetime(str(x), format='%Y%m%d'))\n",
    "df_days['year'] = df_days['dt'].dt.year\n",
    "days_count = df_days.groupby(['year','ID']).sum()\n",
    "days_count = days_count.reset_index()\n",
    "\n",
    "# Sampe of first 5 rows\n",
    "days_count.head()"
   ]
  },
  {
   "cell_type": "code",
   "execution_count": 4,
   "metadata": {},
   "outputs": [],
   "source": [
    "# Next is the Weather Data \n",
    "#Exporting 'GlobalTemperatures.csv' and converting the dt column from text to datetime. \n",
    "df_wt = pd.read_csv('GlobalTemperatures.csv')\n",
    "df_wt['dt'] = pd.to_datetime(df_wt['dt'])\n",
    "# Create a mask that will be used to filter down all of the records in df_wt that correspond with those in df_at\n",
    "mask = (df_wt['dt'] >= '1851-06-01') & (df_wt['dt'] <= '2015-11-01')\n",
    "df_wt = df_wt.loc[mask]\n",
    "# Get the month variable from df_mean to filter down later to the specific months captured in atlantic.csv data. \n",
    "at_month = df_atmean.filter(['month'], axis = 1)\n",
    "at_month = at_month.drop_duplicates()\n",
    "at_month.columns = ['dt']"
   ]
  },
  {
   "cell_type": "code",
   "execution_count": 5,
   "metadata": {},
   "outputs": [],
   "source": [
    "# Functions that transforms the chosen variables from Celsius to Fahrenheit:\n",
    "def celsius_to_fahrenheit1(df):\n",
    "    val = (df['LandAverageTemperature'] * 9/5) +32\n",
    "    return val\n",
    "\n",
    "def celsius_to_fahrenheit2(df):\n",
    "    val = (df['LandMaxTemperature'] * 9/5) +32\n",
    "    return val\n",
    "\n",
    "def celsius_to_fahrenheit3(df):\n",
    "    val = (df['LandAndOceanAverageTemperature'] * 9/5) +32\n",
    "    return val"
   ]
  },
  {
   "cell_type": "code",
   "execution_count": 6,
   "metadata": {},
   "outputs": [
    {
     "data": {
      "text/html": [
       "<div>\n",
       "<style scoped>\n",
       "    .dataframe tbody tr th:only-of-type {\n",
       "        vertical-align: middle;\n",
       "    }\n",
       "\n",
       "    .dataframe tbody tr th {\n",
       "        vertical-align: top;\n",
       "    }\n",
       "\n",
       "    .dataframe thead th {\n",
       "        text-align: right;\n",
       "    }\n",
       "</style>\n",
       "<table border=\"1\" class=\"dataframe\">\n",
       "  <thead>\n",
       "    <tr style=\"text-align: right;\">\n",
       "      <th></th>\n",
       "      <th>dt</th>\n",
       "      <th>LandAverageTemperature_F</th>\n",
       "      <th>LandMaxTemperature_F</th>\n",
       "      <th>LandAndOceanAverageTemperature_F</th>\n",
       "    </tr>\n",
       "  </thead>\n",
       "  <tbody>\n",
       "    <tr>\n",
       "      <th>0</th>\n",
       "      <td>1851-06-01</td>\n",
       "      <td>56.1524</td>\n",
       "      <td>63.1184</td>\n",
       "      <td>61.6928</td>\n",
       "    </tr>\n",
       "    <tr>\n",
       "      <th>1</th>\n",
       "      <td>1852-08-01</td>\n",
       "      <td>55.9472</td>\n",
       "      <td>63.6206</td>\n",
       "      <td>61.8188</td>\n",
       "    </tr>\n",
       "    <tr>\n",
       "      <th>2</th>\n",
       "      <td>1853-08-01</td>\n",
       "      <td>57.1154</td>\n",
       "      <td>66.7544</td>\n",
       "      <td>62.2202</td>\n",
       "    </tr>\n",
       "    <tr>\n",
       "      <th>3</th>\n",
       "      <td>1854-06-01</td>\n",
       "      <td>55.0922</td>\n",
       "      <td>64.7384</td>\n",
       "      <td>61.3148</td>\n",
       "    </tr>\n",
       "    <tr>\n",
       "      <th>4</th>\n",
       "      <td>1855-08-01</td>\n",
       "      <td>56.3846</td>\n",
       "      <td>66.2216</td>\n",
       "      <td>62.0330</td>\n",
       "    </tr>\n",
       "  </tbody>\n",
       "</table>\n",
       "</div>"
      ],
      "text/plain": [
       "          dt  LandAverageTemperature_F  LandMaxTemperature_F  \\\n",
       "0 1851-06-01                   56.1524               63.1184   \n",
       "1 1852-08-01                   55.9472               63.6206   \n",
       "2 1853-08-01                   57.1154               66.7544   \n",
       "3 1854-06-01                   55.0922               64.7384   \n",
       "4 1855-08-01                   56.3846               66.2216   \n",
       "\n",
       "   LandAndOceanAverageTemperature_F  \n",
       "0                           61.6928  \n",
       "1                           61.8188  \n",
       "2                           62.2202  \n",
       "3                           61.3148  \n",
       "4                           62.0330  "
      ]
     },
     "execution_count": 6,
     "metadata": {},
     "output_type": "execute_result"
    }
   ],
   "source": [
    "# Run the functions to get the converted values:\n",
    "df_wt['LandAverageTemperature_F'] = df_wt.apply(celsius_to_fahrenheit1, axis=1)\n",
    "df_wt['LandMaxTemperature_F'] = df_wt.apply(celsius_to_fahrenheit2, axis=1)\n",
    "df_wt['LandAndOceanAverageTemperature_F'] = df_wt.apply(celsius_to_fahrenheit3, axis=1)\n",
    "\n",
    "#Left join on at_month to capture again get all of the variables we need from df_wt\n",
    "df_wtf = pd.merge(at_month,\n",
    "                 df_wt[['dt','LandAverageTemperature_F', 'LandMaxTemperature_F', 'LandAndOceanAverageTemperature_F']],\n",
    "                 on='dt', \n",
    "                 how='left')\n",
    "\n",
    "df_wtf.head()"
   ]
  },
  {
   "cell_type": "markdown",
   "metadata": {},
   "source": [
    "This initial data preparation will now allow us to move to take an in-depth look at our chosen variables.\n",
    "____________________________________________________"
   ]
  },
  {
   "cell_type": "markdown",
   "metadata": {},
   "source": [
    "### Variables - Histograms and other Statistics"
   ]
  },
  {
   "cell_type": "markdown",
   "metadata": {},
   "source": [
    "#### Date"
   ]
  },
  {
   "cell_type": "code",
   "execution_count": 7,
   "metadata": {},
   "outputs": [
    {
     "data": {
      "text/plain": [
       "Text(0.5, 0.95, 'Weather Events Counted by Day')"
      ]
     },
     "execution_count": 7,
     "metadata": {},
     "output_type": "execute_result"
    },
    {
     "data": {
      "image/png": "[encoded data removed]",
      "text/plain": [
       "<Figure size 864x576 with 1 Axes>"
      ]
     },
     "metadata": {
      "needs_background": "light"
     },
     "output_type": "display_data"
    }
   ],
   "source": [
    "# Let's take a look at the count of days were a Tropical Storm was recorded\n",
    "fp = df_days.hist(column='Date', bins=25, grid=False, figsize=(12,8), color='#03fc8c', zorder=2, rwidth=0.9)\n",
    "plt.xlabel(\"Date - Integer as YYYYMMDD\")\n",
    "plt.ylabel(\"Counts\")\n",
    "plt.suptitle('Weather Events Counted by Day', x=0.5, y= 0.95, ha='center', fontsize='xx-large')"
   ]
  },
  {
   "cell_type": "code",
   "execution_count": 18,
   "metadata": {},
   "outputs": [
    {
     "name": "stdout",
     "output_type": "stream",
     "text": [
      "Mean:  19507181.666869026\n",
      "Mode:  0    19710911\n",
      "dtype: int64\n",
      "Standard Deviation:  442800.36120718933\n",
      "Variance:  196072159885.21735\n",
      "Maximum Value:  20151113\n",
      "Minimum Value:  18510625\n"
     ]
    }
   ],
   "source": [
    "print(\"Mean: \",df_days.Date.mean())\n",
    "print(\"Mode: \",df_days.Date.mode())\n",
    "print(\"Standard Deviation: \",df_days.Date.std())\n",
    "print(\"Variance: \",df_days.Date.var())\n",
    "print(\"Maximum Value: \",df_days.Date.max())\n",
    "print(\"Minimum Value: \",df_days.Date.min())"
   ]
  },
  {
   "cell_type": "markdown",
   "metadata": {},
   "source": [
    "From 1851, the number of days where a Tropical Storm event occured do flutuate but there is an evident increase over time."
   ]
  },
  {
   "cell_type": "markdown",
   "metadata": {},
   "source": [
    "#### Average of Maximum Winds Sustained per Event"
   ]
  },
  {
   "cell_type": "code",
   "execution_count": 14,
   "metadata": {},
   "outputs": [
    {
     "data": {
      "text/plain": [
       "Text(0.5, 0.95, 'Maximum Winds Sustained by Day')"
      ]
     },
     "execution_count": 14,
     "metadata": {},
     "output_type": "execute_result"
    },
    {
     "data": {
      "image/png": "[encoded data removed]",
      "text/plain": [
       "<Figure size 864x576 with 1 Axes>"
      ]
     },
     "metadata": {
      "needs_background": "light"
     },
     "output_type": "display_data"
    }
   ],
   "source": [
    "fp = df_atmean.hist(column='Maximum Wind', bins=20, grid=False, figsize=(12,8), color='#fcce03', zorder=2, rwidth=0.9)\n",
    "plt.xlabel(\"Maximum Winds - Average\")\n",
    "plt.ylabel(\"Counts\")\n",
    "plt.suptitle('Maximum Winds Sustained by Day', x=0.5, y= 0.95, ha='center', fontsize='xx-large')"
   ]
  },
  {
   "cell_type": "code",
   "execution_count": 17,
   "metadata": {},
   "outputs": [
    {
     "name": "stdout",
     "output_type": "stream",
     "text": [
      "Mean:  49.25978241155158\n",
      "Mode:  0    30.0\n",
      "dtype: float64\n",
      "Standard Deviation:  25.74958382435838\n",
      "Variance 663.0410671276586\n",
      "Maximum Value:  151.0\n",
      "Minimum Value:  -99.0\n"
     ]
    }
   ],
   "source": [
    "print(\"Mean: \",df_atmean['Maximum Wind'].mean())\n",
    "print(\"Mode: \",df_atmean['Maximum Wind'].mode())\n",
    "print(\"Standard Deviation: \",df_atmean['Maximum Wind'].std())\n",
    "print(\"Variance\",df_atmean['Maximum Wind'].var())\n",
    "print(\"Maximum Value: \",df_atmean['Maximum Wind'].max())\n",
    "print(\"Minimum Value: \",df_atmean['Maximum Wind'].min())"
   ]
  },
  {
   "cell_type": "markdown",
   "metadata": {},
   "source": [
    "The majority of the observations do not pass the 50 mph wind speed per day threshold. The -99 values represent non captured values. I suppose these could be excluded, however, I left them in because I wanted to get a sense of how much data was actually left out. We do have some observations that have are in the negative values. Since they represent a small amount of the population, It might be OK to exclude these."
   ]
  },
  {
   "cell_type": "markdown",
   "metadata": {},
   "source": [
    "#### Minimum Pressure"
   ]
  },
  {
   "cell_type": "code",
   "execution_count": 16,
   "metadata": {},
   "outputs": [
    {
     "data": {
      "text/plain": [
       "Text(0.5, 0.95, 'Minimum Storm Pressure by Day')"
      ]
     },
     "execution_count": 16,
     "metadata": {},
     "output_type": "execute_result"
    },
    {
     "data": {
      "image/png": "[encoded data removed]",
      "text/plain": [
       "<Figure size 864x576 with 1 Axes>"
      ]
     },
     "metadata": {
      "needs_background": "light"
     },
     "output_type": "display_data"
    }
   ],
   "source": [
    "fp = df_atmean.hist(column='Minimum Pressure', bins=25, grid=False, figsize=(12,8), color='#fc1803', zorder=2, rwidth=0.9)\n",
    "plt.xlabel(\"Minimum Pressure\")\n",
    "plt.ylabel(\"Counts\")\n",
    "plt.suptitle('Minimum Storm Pressure by Day', x=0.5, y= 0.95, ha='center', fontsize='xx-large')"
   ]
  },
  {
   "cell_type": "code",
   "execution_count": 19,
   "metadata": {},
   "outputs": [
    {
     "name": "stdout",
     "output_type": "stream",
     "text": [
      "Mean:  -205.4407953475038\n",
      "Mode:  0   -999.0\n",
      "dtype: float64\n",
      "Standard Deviation:  934.1530368840592\n",
      "Variance:  872641.8963197106\n",
      "Maximum Value:  1024.0\n",
      "Minimum Value:  -999.0\n"
     ]
    }
   ],
   "source": [
    "print(\"Mean: \",df_atmean['Minimum Pressure'].mean())\n",
    "print(\"Mode: \",df_atmean['Minimum Pressure'].mode())\n",
    "print(\"Standard Deviation: \",df_atmean['Minimum Pressure'].std())\n",
    "print(\"Variance: \",df_atmean['Minimum Pressure'].var())\n",
    "print(\"Maximum Value: \",df_atmean['Minimum Pressure'].max())\n",
    "print(\"Minimum Value: \",df_atmean['Minimum Pressure'].min())"
   ]
  },
  {
   "cell_type": "markdown",
   "metadata": {},
   "source": [
    "-999 represents non-captured values. Due to large amount of non-captured values, this variable might not be as useful as I initially thought. "
   ]
  },
  {
   "cell_type": "markdown",
   "metadata": {},
   "source": [
    "#### Land Average Temperatures"
   ]
  },
  {
   "cell_type": "code",
   "execution_count": 21,
   "metadata": {},
   "outputs": [
    {
     "data": {
      "text/plain": [
       "Text(0.5, 0.95, 'Monthly Average Land Temperatures')"
      ]
     },
     "execution_count": 21,
     "metadata": {},
     "output_type": "execute_result"
    },
    {
     "data": {
      "image/png": "[encoded data removed]",
      "text/plain": [
       "<Figure size 864x576 with 1 Axes>"
      ]
     },
     "metadata": {
      "needs_background": "light"
     },
     "output_type": "display_data"
    }
   ],
   "source": [
    "fp = df_wtf.hist(column='LandAverageTemperature_F', bins=25, grid=False, figsize=(12,8), color='#86bf91', zorder=2, rwidth=0.9)\n",
    "plt.xlabel(\"Average Land Temperatures\")\n",
    "plt.ylabel(\"Counts\")\n",
    "plt.suptitle('Monthly Average Land Temperatures', x=0.5, y= 0.95, ha='center', fontsize='xx-large')"
   ]
  },
  {
   "cell_type": "code",
   "execution_count": 22,
   "metadata": {},
   "outputs": [
    {
     "name": "stdout",
     "output_type": "stream",
     "text": [
      "Mean:  52.43197088607594\n",
      "Mode:  0    54.0446\n",
      "1    58.5356\n",
      "dtype: float64\n",
      "Standard Deviation:  5.319309991885447\n",
      "Variance:  28.29505878977235\n",
      "Maximum Value:  59.867599999999996\n",
      "Minimum Value:  35.8484\n"
     ]
    }
   ],
   "source": [
    "print(\"Mean: \",df_wtf.LandAverageTemperature_F.mean())\n",
    "print(\"Mode: \",df_wtf.LandAverageTemperature_F.mode())\n",
    "print(\"Standard Deviation: \",df_wtf.LandAverageTemperature_F.std())\n",
    "print(\"Variance: \",df_wtf.LandAverageTemperature_F.var())\n",
    "print(\"Maximum Value: \",df_wtf.LandAverageTemperature_F.max())\n",
    "print(\"Minimum Value: \",df_wtf.LandAverageTemperature_F.min())"
   ]
  },
  {
   "cell_type": "markdown",
   "metadata": {},
   "source": [
    "I found it interesting that we had Observations where the Average Land Temperature on a Global Scale was around 35 degrees Fahrenheit."
   ]
  },
  {
   "cell_type": "code",
   "execution_count": 24,
   "metadata": {},
   "outputs": [],
   "source": [
    "#### Land And Ocean Average Temperatures"
   ]
  },
  {
   "cell_type": "code",
   "execution_count": 26,
   "metadata": {},
   "outputs": [
    {
     "data": {
      "text/plain": [
       "Text(0.5, 0.95, 'Monthly Average Land and Ocean Temperatures during Weather Phenomenon')"
      ]
     },
     "execution_count": 26,
     "metadata": {},
     "output_type": "execute_result"
    },
    {
     "data": {
      "image/png": "[encoded data removed]",
      "text/plain": [
       "<Figure size 864x576 with 1 Axes>"
      ]
     },
     "metadata": {
      "needs_background": "light"
     },
     "output_type": "display_data"
    }
   ],
   "source": [
    "fp = df_wtf.hist(column='LandAndOceanAverageTemperature_F', bins=10, grid=False, figsize=(12,8), color='#fc0380', zorder=2, rwidth=0.9)\n",
    "plt.xlabel(\"Average Land and Ocean Temperatures\")\n",
    "plt.ylabel(\"Counts\")\n",
    "plt.suptitle('Monthly Average Land and Ocean Temperatures during Weather Phenomenon', x=0.5, y= 0.95, ha='center', fontsize='xx-large')"
   ]
  },
  {
   "cell_type": "code",
   "execution_count": 27,
   "metadata": {},
   "outputs": [
    {
     "name": "stdout",
     "output_type": "stream",
     "text": [
      "Mean:  60.83003265822783\n",
      "Mode:  0    61.6928\n",
      "dtype: float64\n",
      "Standard Deviation:  1.721141988207503\n",
      "Variance:  2.962329743570876\n",
      "Maximum Value:  63.699799999999996\n",
      "Minimum Value:  56.013799999999996\n"
     ]
    }
   ],
   "source": [
    "print(\"Mean: \",df_wtf.LandAndOceanAverageTemperature_F.mean())\n",
    "print(\"Mode: \",df_wtf.LandAndOceanAverageTemperature_F.mode())\n",
    "print(\"Standard Deviation: \",df_wtf.LandAndOceanAverageTemperature_F.std())\n",
    "print(\"Variance: \",df_wtf.LandAndOceanAverageTemperature_F.var())\n",
    "print(\"Maximum Value: \",df_wtf.LandAndOceanAverageTemperature_F.max())\n",
    "print(\"Minimum Value: \",df_wtf.LandAndOceanAverageTemperature_F.min())"
   ]
  },
  {
   "cell_type": "markdown",
   "metadata": {},
   "source": [
    "The average Land and Ocean Global Temperatures ranges between 56 and 64 degrees Fahrenheit. While one could conclude that this range is perhaps the ideal temperatures that help foster these observations. However, more data and an in-depth analysis before we can even begin to ponder such a hypothesis."
   ]
  },
  {
   "cell_type": "markdown",
   "metadata": {},
   "source": [
    "_____________________________________\n",
    "### Probability Mass Functions"
   ]
  },
  {
   "cell_type": "markdown",
   "metadata": {},
   "source": [
    "#### First Scenario - Increased Number of Storms "
   ]
  },
  {
   "cell_type": "code",
   "execution_count": 29,
   "metadata": {},
   "outputs": [],
   "source": [
    "# Group Atlantic Storms - Count by Year\n",
    "\n",
    "at_filter = df_at.filter(['ID','Date','count'], axis = 1)\n",
    "at_filter['dt'] = at_filter['Date'].apply(lambda x: pd.to_datetime(str(x), format='%Y%m%d'))\n",
    "at_filter['year'] = at_filter['dt'].dt.year\n",
    "at_filter = at_filter.filter(['ID','year','count'], axis = 1)"
   ]
  },
  {
   "cell_type": "code",
   "execution_count": 30,
   "metadata": {},
   "outputs": [],
   "source": [
    "# Function to help catogrize the Hurricane between two groups: 1851-1933 or group 1 and 1934 to 2015 or group 2.\n",
    "def cat(row):\n",
    "    if row['year'] > 1850 and row['year'] < 1934:\n",
    "        val = '1'\n",
    "    elif row['year'] > 1933 and row['year'] < 2016:\n",
    "        val = '2'\n",
    "    else:\n",
    "        val = -1\n",
    "    return val"
   ]
  },
  {
   "cell_type": "code",
   "execution_count": 31,
   "metadata": {},
   "outputs": [
    {
     "data": {
      "text/html": [
       "<div>\n",
       "<style scoped>\n",
       "    .dataframe tbody tr th:only-of-type {\n",
       "        vertical-align: middle;\n",
       "    }\n",
       "\n",
       "    .dataframe tbody tr th {\n",
       "        vertical-align: top;\n",
       "    }\n",
       "\n",
       "    .dataframe thead th {\n",
       "        text-align: right;\n",
       "    }\n",
       "</style>\n",
       "<table border=\"1\" class=\"dataframe\">\n",
       "  <thead>\n",
       "    <tr style=\"text-align: right;\">\n",
       "      <th></th>\n",
       "      <th>year</th>\n",
       "      <th>count</th>\n",
       "      <th>cycle</th>\n",
       "    </tr>\n",
       "  </thead>\n",
       "  <tbody>\n",
       "    <tr>\n",
       "      <th>0</th>\n",
       "      <td>1851</td>\n",
       "      <td>6</td>\n",
       "      <td>1</td>\n",
       "    </tr>\n",
       "    <tr>\n",
       "      <th>1</th>\n",
       "      <td>1852</td>\n",
       "      <td>5</td>\n",
       "      <td>1</td>\n",
       "    </tr>\n",
       "    <tr>\n",
       "      <th>2</th>\n",
       "      <td>1853</td>\n",
       "      <td>8</td>\n",
       "      <td>1</td>\n",
       "    </tr>\n",
       "    <tr>\n",
       "      <th>3</th>\n",
       "      <td>1854</td>\n",
       "      <td>5</td>\n",
       "      <td>1</td>\n",
       "    </tr>\n",
       "    <tr>\n",
       "      <th>4</th>\n",
       "      <td>1855</td>\n",
       "      <td>5</td>\n",
       "      <td>1</td>\n",
       "    </tr>\n",
       "  </tbody>\n",
       "</table>\n",
       "</div>"
      ],
      "text/plain": [
       "   year  count cycle\n",
       "0  1851      6     1\n",
       "1  1852      5     1\n",
       "2  1853      8     1\n",
       "3  1854      5     1\n",
       "4  1855      5     1"
      ]
     },
     "execution_count": 31,
     "metadata": {},
     "output_type": "execute_result"
    }
   ],
   "source": [
    "# Drop duplicate values, group by year and sum all observations, and apply the cat function to add the cycle \n",
    "# column the the dataframe.\n",
    "at_filter = at_filter.drop_duplicates()\n",
    "at_filter = at_filter.groupby(['year']).sum()\n",
    "at_filter = at_filter.reset_index()\n",
    "at_filter['cycle'] = at_filter.apply(cat, axis=1)\n",
    "at_filter.head()"
   ]
  },
  {
   "cell_type": "code",
   "execution_count": 32,
   "metadata": {},
   "outputs": [],
   "source": [
    "# Filter group 1 and 2 to their respective dataframes.\n",
    "at_cycle1 = at_filter[at_filter.cycle == '1']\n",
    "at_cycle2 = at_filter[at_filter.cycle == '2']"
   ]
  },
  {
   "cell_type": "code",
   "execution_count": 33,
   "metadata": {},
   "outputs": [],
   "source": [
    "# Calculate the PMF\n",
    "cycle1 = pd.DataFrame(at_cycle1['count'].value_counts())\n",
    "cycle1['value'] = cycle1.index\n",
    "cycle1['pmf'] = cycle1['count']/cycle1['count'].sum()\n",
    "\n",
    "cycle2 = pd.DataFrame(at_cycle2['count'].value_counts())\n",
    "cycle2['value'] = cycle2.index\n",
    "cycle2['pmf'] = cycle2['count']/cycle2['count'].sum()"
   ]
  },
  {
   "cell_type": "code",
   "execution_count": 39,
   "metadata": {},
   "outputs": [
    {
     "data": {
      "text/plain": [
       "Text(0.5, 0.95, '1851-1933 - Storms by Year')"
      ]
     },
     "execution_count": 39,
     "metadata": {},
     "output_type": "execute_result"
    },
    {
     "data": {
      "image/png": "[encoded data removed]",
      "text/plain": [
       "<Figure size 432x288 with 1 Axes>"
      ]
     },
     "metadata": {
      "needs_background": "light"
     },
     "output_type": "display_data"
    }
   ],
   "source": [
    "# Plotting PMF for group 1\n",
    "plt.bar(cycle1['value'], cycle1['pmf'], color = 'orange')\n",
    "plt.xlabel(\"Total Storms per Year\")\n",
    "plt.ylabel(\"PMF\")\n",
    "plt.suptitle('1851-1933 - Storms by Year', x=0.5, y= 0.95, ha='center', fontsize='xx-large')"
   ]
  },
  {
   "cell_type": "code",
   "execution_count": 40,
   "metadata": {},
   "outputs": [
    {
     "data": {
      "text/plain": [
       "Text(0.5, 0.95, '1934-2015 - Storms by Year')"
      ]
     },
     "execution_count": 40,
     "metadata": {},
     "output_type": "execute_result"
    },
    {
     "data": {
      "image/png": "[encoded data removed]",
      "text/plain": [
       "<Figure size 432x288 with 1 Axes>"
      ]
     },
     "metadata": {
      "needs_background": "light"
     },
     "output_type": "display_data"
    }
   ],
   "source": [
    "# Plotting PMF for group 2\n",
    "plt.bar(cycle2['value'], cycle2['pmf'], color = '#03fcad')\n",
    "plt.xlabel(\"Total Storms per Year\")\n",
    "plt.ylabel(\"PMF\")\n",
    "plt.suptitle('1934-2015 - Storms by Year', x=0.5, y= 0.95, ha='center', fontsize='xx-large')"
   ]
  },
  {
   "cell_type": "code",
   "execution_count": 46,
   "metadata": {},
   "outputs": [
    {
     "data": {
      "text/plain": [
       "Text(0.5, 0.95, 'Storms by Year Comparison')"
      ]
     },
     "execution_count": 46,
     "metadata": {},
     "output_type": "execute_result"
    },
    {
     "data": {
      "image/png": "[encoded data removed]",
      "text/plain": [
       "<Figure size 432x288 with 1 Axes>"
      ]
     },
     "metadata": {
      "needs_background": "light"
     },
     "output_type": "display_data"
    }
   ],
   "source": [
    "# Comparison between group 1 and 2\n",
    "fig = plt.figure()\n",
    "ax = fig.add_subplot(111)\n",
    "plt.bar(cycle2['value'], cycle2['pmf'], alpha = 0.5,color = '#03fcad')\n",
    "plt.bar(cycle1['value'], cycle1['pmf'], alpha = 0.5, color = 'orange')\n",
    "plt.xlabel(\"Total Storms per Year\")\n",
    "plt.ylabel(\"PMF\")\n",
    "plt.suptitle('Storms by Year Comparison', x=0.5, y= 0.95, ha='center', fontsize='xx-large')"
   ]
  },
  {
   "cell_type": "markdown",
   "metadata": {},
   "source": [
    "For observations occurring between 1934 to 2015 had higher probabilities for more storms per year than those that occured between 1851 to 1933."
   ]
  },
  {
   "cell_type": "markdown",
   "metadata": {},
   "source": [
    "#### Second Scenario - Land and Ocean Average Temperatures"
   ]
  },
  {
   "cell_type": "code",
   "execution_count": 48,
   "metadata": {},
   "outputs": [],
   "source": [
    "# We filter dt_wtf to just the dt and LandandOceanAverageTemperature_F variables and apply the cat function to \n",
    "# to group the the observations like we did earlier. \n",
    "wt_filter = df_wtf.filter(['dt','LandAndOceanAverageTemperature_F'], axis = 1)\n",
    "wt_filter['year'] = wt_filter['dt'].dt.year\n",
    "wt_filter['cycle'] = wt_filter.apply(cat, axis=1)\n",
    "\n",
    "# Filter group 1 and 2 to their respective dataframes.\n",
    "wt_cycle1 = wt_filter[wt_filter.cycle == '1']\n",
    "wt_cycle2 = wt_filter[wt_filter.cycle == '2']\n",
    "\n",
    "# Calculate PMF.\n",
    "wcycle1 = pd.DataFrame(wt_cycle1['LandAndOceanAverageTemperature_F'].value_counts())\n",
    "wcycle1['value'] = wcycle1.index\n",
    "wcycle1['pmf'] = wcycle1['LandAndOceanAverageTemperature_F']/wcycle1['LandAndOceanAverageTemperature_F'].sum()\n",
    "\n",
    "wcycle2 = pd.DataFrame(wt_cycle2['LandAndOceanAverageTemperature_F'].value_counts())\n",
    "wcycle2['value'] = wcycle2.index\n",
    "wcycle2['pmf'] = wcycle2['LandAndOceanAverageTemperature_F']/wcycle2['LandAndOceanAverageTemperature_F'].sum()"
   ]
  },
  {
   "cell_type": "code",
   "execution_count": 50,
   "metadata": {},
   "outputs": [
    {
     "data": {
      "text/plain": [
       "Text(0.5, 0.95, '1851-1933 - Land and Ocean Average Temperatures')"
      ]
     },
     "execution_count": 50,
     "metadata": {},
     "output_type": "execute_result"
    },
    {
     "data": {
      "image/png": "[encoded data removed]",
      "text/plain": [
       "<Figure size 432x288 with 1 Axes>"
      ]
     },
     "metadata": {
      "needs_background": "light"
     },
     "output_type": "display_data"
    }
   ],
   "source": [
    "# Plot PMF for first group\n",
    "plt.bar(wcycle1['value'], wcycle1['pmf'], color = '#fc5603')\n",
    "plt.xlabel(\" Land and Ocean Average Temperatures - F\")\n",
    "plt.ylabel(\"PMF\")\n",
    "plt.suptitle('1851-1933 - Land and Ocean Average Temperatures', x=0.5, y= 0.95, ha='center', fontsize='xx-large')"
   ]
  },
  {
   "cell_type": "code",
   "execution_count": 52,
   "metadata": {},
   "outputs": [
    {
     "data": {
      "text/plain": [
       "Text(0.5, 0.95, '1934-2015 - Land and Ocean Average Temperatures')"
      ]
     },
     "execution_count": 52,
     "metadata": {},
     "output_type": "execute_result"
    },
    {
     "data": {
      "image/png": "[encoded data removed]",
      "text/plain": [
       "<Figure size 432x288 with 1 Axes>"
      ]
     },
     "metadata": {
      "needs_background": "light"
     },
     "output_type": "display_data"
    }
   ],
   "source": [
    "# Plot PMF for second group\n",
    "plt.bar(wcycle2['value'], wcycle2['pmf'], color = '#03c2fc')\n",
    "plt.xlabel(\" Land and Ocean Average Temperatures - F\")\n",
    "plt.ylabel(\"PMF\")\n",
    "plt.suptitle('1934-2015 - Land and Ocean Average Temperatures', x=0.5, y= 0.95, ha='center', fontsize='xx-large')"
   ]
  },
  {
   "cell_type": "code",
   "execution_count": 54,
   "metadata": {},
   "outputs": [
    {
     "data": {
      "text/plain": [
       "Text(0.5, 0.95, 'Storms by Year Comparison')"
      ]
     },
     "execution_count": 54,
     "metadata": {},
     "output_type": "execute_result"
    },
    {
     "data": {
      "image/png": "[encoded data removed]",
      "text/plain": [
       "<Figure size 432x288 with 1 Axes>"
      ]
     },
     "metadata": {
      "needs_background": "light"
     },
     "output_type": "display_data"
    }
   ],
   "source": [
    "# Comparison between group 1 and 2\n",
    "fig = plt.figure()\n",
    "ax = fig.add_subplot(111)\n",
    "plt.bar(wcycle2['value'], wcycle2['pmf'], color = '#03c2fc', alpha = 0.25)\n",
    "plt.bar(wcycle1['value'], wcycle1['pmf'], color = '#fc5603', alpha = 0.25)\n",
    "plt.xlabel(\" Land and Ocean Average Temperatures - F\")\n",
    "plt.ylabel(\"PMF\")\n",
    "plt.suptitle('Storms by Year Comparison', x=0.5, y= 0.95, ha='center', fontsize='xx-large')"
   ]
  },
  {
   "cell_type": "markdown",
   "metadata": {},
   "source": [
    "From 1851 to 1933, a large number of observations had a high probability of occuring when the average Land and Ocean Temperature was higher than 60 degrees Fahrenheit. For observations occuring on or after 1934, the Probability does not reach the same levels as in the first group. This is something worth looking into."
   ]
  },
  {
   "cell_type": "markdown",
   "metadata": {},
   "source": [
    "_________________________________\n",
    "\n",
    "### Cumulative Distribution Function"
   ]
  },
  {
   "cell_type": "markdown",
   "metadata": {},
   "source": [
    "For this part, I decided to do two Cumulative Distribution Functions: One for the Maximum Wind strength and another for the length of Tropical Storms."
   ]
  },
  {
   "cell_type": "code",
   "execution_count": 83,
   "metadata": {},
   "outputs": [],
   "source": [
    "# Part I - Maximum Wind Strength for Tropical Storms\n",
    "at_si = df_at.groupby(['ID']).mean()\n",
    "at_si = df_days.reset_index()\n",
    "at_si = at_si.filter(['Maximum Wind','count'], axis = 1)\n",
    "at_si = at_si.groupby(['Maximum Wind']).sum()\n",
    "at_si = at_si.reset_index()\n",
    "at_si = at_si[at_si['Maximum Wind']>0]\n",
    "at_si['pdf'] = at_si['count']/sum(at_si['count'])\n",
    "at_si['cdf'] = at_si['pdf'].cumsum()"
   ]
  },
  {
   "cell_type": "code",
   "execution_count": 84,
   "metadata": {},
   "outputs": [
    {
     "data": {
      "text/plain": [
       "Text(0.5, 0.95, 'Cumulative Distribution Function - Winds')"
      ]
     },
     "execution_count": 84,
     "metadata": {},
     "output_type": "execute_result"
    },
    {
     "data": {
      "image/png": "[encoded data removed]",
      "text/plain": [
       "<Figure size 432x288 with 1 Axes>"
      ]
     },
     "metadata": {
      "needs_background": "light"
     },
     "output_type": "display_data"
    }
   ],
   "source": [
    "at_si.plot(x = 'Maximum Wind', y = ['pdf', 'cdf'], grid = True)\n",
    "plt.xlabel(\" Maximum Wind\")\n",
    "plt.ylabel(\"Probability\")\n",
    "plt.suptitle('Cumulative Distribution Function - Winds', x=0.5, y= 0.95, ha='center', fontsize='xx-large')"
   ]
  },
  {
   "cell_type": "code",
   "execution_count": 86,
   "metadata": {},
   "outputs": [
    {
     "data": {
      "text/html": [
       "<div>\n",
       "<style scoped>\n",
       "    .dataframe tbody tr th:only-of-type {\n",
       "        vertical-align: middle;\n",
       "    }\n",
       "\n",
       "    .dataframe tbody tr th {\n",
       "        vertical-align: top;\n",
       "    }\n",
       "\n",
       "    .dataframe thead th {\n",
       "        text-align: right;\n",
       "    }\n",
       "</style>\n",
       "<table border=\"1\" class=\"dataframe\">\n",
       "  <thead>\n",
       "    <tr style=\"text-align: right;\">\n",
       "      <th></th>\n",
       "      <th>Maximum Wind</th>\n",
       "      <th>count</th>\n",
       "      <th>pdf</th>\n",
       "      <th>cdf</th>\n",
       "    </tr>\n",
       "  </thead>\n",
       "  <tbody>\n",
       "    <tr>\n",
       "      <th>51</th>\n",
       "      <td>33.75</td>\n",
       "      <td>210.0</td>\n",
       "      <td>0.016108</td>\n",
       "      <td>0.290328</td>\n",
       "    </tr>\n",
       "  </tbody>\n",
       "</table>\n",
       "</div>"
      ],
      "text/plain": [
       "    Maximum Wind  count       pdf       cdf\n",
       "51         33.75  210.0  0.016108  0.290328"
      ]
     },
     "execution_count": 86,
     "metadata": {},
     "output_type": "execute_result"
    }
   ],
   "source": [
    "# CDF for Storms that are 64 knots or higher in Wind Speed\n",
    "at_si[at_si['Maximum Wind'] >= 33.7].head(1)"
   ]
  },
  {
   "cell_type": "markdown",
   "metadata": {},
   "source": [
    "This shows that 29.03 percentile of the observations in this dataset **do not** meet the criteria of Tropical Storm per the Saffir-Simpson scale (https://en.wikipedia.org/wiki/Saffir%E2%80%93Simpson_scale)"
   ]
  },
  {
   "cell_type": "code",
   "execution_count": 8,
   "metadata": {},
   "outputs": [],
   "source": [
    "# Part II - Lenght of Storms (Days)\n",
    "\n",
    "at_daysc = days_count.filter(['count'], axis = 1)\n",
    "at_daysc = pd.DataFrame(at_daysc['count'].value_counts())\n",
    "at_daysc = at_daysc.sort_index()\n",
    "at_daysc = at_daysc.reset_index()\n",
    "at_daysc['pdf'] = at_daysc['count']/sum(at_daysc['count'])\n",
    "at_daysc['cdf'] = at_daysc['pdf'].cumsum()"
   ]
  },
  {
   "cell_type": "code",
   "execution_count": 9,
   "metadata": {},
   "outputs": [
    {
     "data": {
      "text/plain": [
       "Text(0.5, 0.95, 'Cumulative Distribution Function - Duration')"
      ]
     },
     "execution_count": 9,
     "metadata": {},
     "output_type": "execute_result"
    },
    {
     "data": {
      "image/png": "[encoded data removed]",
      "text/plain": [
       "<Figure size 432x288 with 1 Axes>"
      ]
     },
     "metadata": {
      "needs_background": "light"
     },
     "output_type": "display_data"
    }
   ],
   "source": [
    "at_daysc.plot(x = 'index', y = ['pdf', 'cdf'], grid = True)\n",
    "plt.xlabel(\"Duration - In Days\")\n",
    "plt.ylabel(\"Probability\")\n",
    "plt.suptitle('Cumulative Distribution Function - Duration', x=0.5, y= 0.95, ha='center', fontsize='xx-large')"
   ]
  },
  {
   "cell_type": "code",
   "execution_count": 90,
   "metadata": {},
   "outputs": [
    {
     "data": {
      "text/html": [
       "<div>\n",
       "<style scoped>\n",
       "    .dataframe tbody tr th:only-of-type {\n",
       "        vertical-align: middle;\n",
       "    }\n",
       "\n",
       "    .dataframe tbody tr th {\n",
       "        vertical-align: top;\n",
       "    }\n",
       "\n",
       "    .dataframe thead th {\n",
       "        text-align: right;\n",
       "    }\n",
       "</style>\n",
       "<table border=\"1\" class=\"dataframe\">\n",
       "  <thead>\n",
       "    <tr style=\"text-align: right;\">\n",
       "      <th></th>\n",
       "      <th>index</th>\n",
       "      <th>count</th>\n",
       "      <th>pdf</th>\n",
       "      <th>cdf</th>\n",
       "    </tr>\n",
       "  </thead>\n",
       "  <tbody>\n",
       "    <tr>\n",
       "      <th>9</th>\n",
       "      <td>10.0</td>\n",
       "      <td>112</td>\n",
       "      <td>0.061674</td>\n",
       "      <td>0.803414</td>\n",
       "    </tr>\n",
       "  </tbody>\n",
       "</table>\n",
       "</div>"
      ],
      "text/plain": [
       "   index  count       pdf       cdf\n",
       "9   10.0    112  0.061674  0.803414"
      ]
     },
     "execution_count": 90,
     "metadata": {},
     "output_type": "execute_result"
    }
   ],
   "source": [
    "# CDF for Storms that last 10 days\n",
    "at_daysc[at_daysc['index'] >= 10].head(1)"
   ]
  },
  {
   "cell_type": "markdown",
   "metadata": {},
   "source": [
    "Observations that lasted 10 days are fall under the 80 percentile. "
   ]
  },
  {
   "cell_type": "markdown",
   "metadata": {},
   "source": [
    "_________________________________\n",
    "\n",
    "### Analytical Distribution\n",
    "\n",
    "Here, I want to look at the normal distribution of storms/events/observations occur per year."
   ]
  },
  {
   "cell_type": "code",
   "execution_count": 93,
   "metadata": {},
   "outputs": [
    {
     "data": {
      "text/html": [
       "<div>\n",
       "<style scoped>\n",
       "    .dataframe tbody tr th:only-of-type {\n",
       "        vertical-align: middle;\n",
       "    }\n",
       "\n",
       "    .dataframe tbody tr th {\n",
       "        vertical-align: top;\n",
       "    }\n",
       "\n",
       "    .dataframe thead th {\n",
       "        text-align: right;\n",
       "    }\n",
       "</style>\n",
       "<table border=\"1\" class=\"dataframe\">\n",
       "  <thead>\n",
       "    <tr style=\"text-align: right;\">\n",
       "      <th></th>\n",
       "      <th>year</th>\n",
       "      <th>totals</th>\n",
       "    </tr>\n",
       "  </thead>\n",
       "  <tbody>\n",
       "    <tr>\n",
       "      <th>0</th>\n",
       "      <td>1851</td>\n",
       "      <td>6</td>\n",
       "    </tr>\n",
       "    <tr>\n",
       "      <th>1</th>\n",
       "      <td>1852</td>\n",
       "      <td>5</td>\n",
       "    </tr>\n",
       "    <tr>\n",
       "      <th>2</th>\n",
       "      <td>1853</td>\n",
       "      <td>8</td>\n",
       "    </tr>\n",
       "    <tr>\n",
       "      <th>3</th>\n",
       "      <td>1854</td>\n",
       "      <td>5</td>\n",
       "    </tr>\n",
       "    <tr>\n",
       "      <th>4</th>\n",
       "      <td>1855</td>\n",
       "      <td>5</td>\n",
       "    </tr>\n",
       "  </tbody>\n",
       "</table>\n",
       "</div>"
      ],
      "text/plain": [
       "   year  totals\n",
       "0  1851       6\n",
       "1  1852       5\n",
       "2  1853       8\n",
       "3  1854       5\n",
       "4  1855       5"
      ]
     },
     "execution_count": 93,
     "metadata": {},
     "output_type": "execute_result"
    }
   ],
   "source": [
    "# Filter Year and ID from days_count dataframe, add a total column with a value of 1 and group by year.\n",
    "at_epy = days_count.filter(['year','ID'], axis = 1)\n",
    "at_epy = at_epy.drop_duplicates()\n",
    "at_epy['totals'] = 1\n",
    "at_epy = at_epy.groupby(['year']).sum()\n",
    "at_epy = at_epy.reset_index()\n",
    "at_epy.head()"
   ]
  },
  {
   "cell_type": "code",
   "execution_count": 94,
   "metadata": {},
   "outputs": [
    {
     "data": {
      "image/png": "[encoded data removed]",
      "text/plain": [
       "<Figure size 432x288 with 1 Axes>"
      ]
     },
     "metadata": {
      "needs_background": "light"
     },
     "output_type": "display_data"
    }
   ],
   "source": [
    "# Use norm from sci py to get the mean and standard deviation for the normal distribution\n",
    "mu, std = norm.fit(at_epy['totals'])\n",
    "\n",
    "# Plot the histogram.\n",
    "plt.hist(at_epy['totals'], bins=25, density=True, alpha=0.6, color='#fc03f4')\n",
    "\n",
    "# Plot the PDF.\n",
    "xmin, xmax = plt.xlim()\n",
    "x = np.linspace(xmin, xmax, 100)\n",
    "p = norm.pdf(x, mu, std)\n",
    "plt.plot(x, p, 'k', linewidth=2)\n",
    "title = \"Fit results: mu = %.2f,  std = %.2f\" % (mu, std)\n",
    "plt.title(title)\n",
    "\n",
    "plt.show()"
   ]
  },
  {
   "cell_type": "markdown",
   "metadata": {},
   "source": [
    "The normal distribution shows that the mean for storm durations is about 11 days with a standard deviation of about 5 days "
   ]
  },
  {
   "cell_type": "markdown",
   "metadata": {},
   "source": [
    "_________________________\n",
    "###  Scatter Plots"
   ]
  },
  {
   "cell_type": "markdown",
   "metadata": {},
   "source": [
    "First relationship to explore - Maximum Wind and Average Land and Ocean Temperatures:"
   ]
  },
  {
   "cell_type": "code",
   "execution_count": 101,
   "metadata": {},
   "outputs": [],
   "source": [
    "df_atf =  df_at.filter(['ID','Date','Maximum Wind'], axis = 1)\n",
    "df_atf['date'] = df_atf['Date'].apply(lambda x: pd.to_datetime(str(x), format='%Y%m%d'))\n",
    "df_atf['dt'] = df_atf['date'].values.astype('datetime64[M]')\n",
    "df_atf = df_atf.groupby(['ID', 'dt']).mean()\n",
    "df_atf = df_atf.reset_index()\n",
    "df_atf = pd.merge(df_atf,\n",
    "                 df_wtf[['dt','LandAverageTemperature_F', 'LandMaxTemperature_F', 'LandAndOceanAverageTemperature_F']],\n",
    "                 on='dt', \n",
    "                 how='left')"
   ]
  },
  {
   "cell_type": "code",
   "execution_count": 103,
   "metadata": {},
   "outputs": [
    {
     "data": {
      "text/plain": [
       "Text(0.5, 0.95, 'Maximum Winds - Land/Ocean Avg Temp')"
      ]
     },
     "execution_count": 103,
     "metadata": {},
     "output_type": "execute_result"
    },
    {
     "data": {
      "image/png": "[encoded data removed]",
      "text/plain": [
       "<Figure size 432x288 with 1 Axes>"
      ]
     },
     "metadata": {
      "needs_background": "light"
     },
     "output_type": "display_data"
    }
   ],
   "source": [
    "plt.scatter(df_atf['LandAndOceanAverageTemperature_F'],df_atf['Maximum Wind'],alpha=0.25)\n",
    "plt.xlabel(\" Land-Ocean Temp - Average F\")\n",
    "plt.ylabel(\"Maximum Wind\")\n",
    "plt.suptitle('Maximum Winds - Land/Ocean Avg Temp', x=0.5, y= 0.95, ha='center', fontsize='xx-large')"
   ]
  },
  {
   "cell_type": "code",
   "execution_count": 104,
   "metadata": {},
   "outputs": [
    {
     "name": "stdout",
     "output_type": "stream",
     "text": [
      "Pearson's correlation:  (-0.11262592248920522, 1.5371348757627914e-07) \n",
      " Spearman's correlation:  SpearmanrResult(correlation=-0.1944064413709295, pvalue=7.717569776233492e-20)\n"
     ]
    }
   ],
   "source": [
    "#Next we calculate pearson's and spearman's correlation\n",
    "pearson = pearsonr(df_atf['LandAndOceanAverageTemperature_F'], df_atf['Maximum Wind'])\n",
    "spearman = spearmanr(df_atf['LandAndOceanAverageTemperature_F'], df_atf['Maximum Wind'])\n",
    "\n",
    "print(\"Pearson's correlation: \", pearson,\"\\n\",\"Spearman's correlation: \", spearman)"
   ]
  },
  {
   "cell_type": "markdown",
   "metadata": {},
   "source": [
    "Both Pearson's and Spearman's coeffecients indicate that there is a weak, negative correlation between Maximum Wind and the Average Land Temperature at *p  < 0.05*."
   ]
  },
  {
   "cell_type": "markdown",
   "metadata": {},
   "source": [
    "******\n",
    "Next - Storm Duration (days) and Average Land and Ocean Temperatures:"
   ]
  },
  {
   "cell_type": "code",
   "execution_count": 105,
   "metadata": {},
   "outputs": [],
   "source": [
    "df_atf2 =  df_at.filter(['ID','Date'], axis = 1)\n",
    "df_atf2 = df_atf2.drop_duplicates()\n",
    "df_atf2['date'] = df_atf2['Date'].apply(lambda x: pd.to_datetime(str(x), format='%Y%m%d'))\n",
    "df_atf2['dt'] = df_atf2['date'].values.astype('datetime64[M]')\n",
    "df_atf2['count'] = 1\n",
    "df_atf2 = df_atf2.groupby(['ID', 'dt']).sum()\n",
    "df_atf2 = df_atf2.reset_index()\n",
    "df_atf2 = pd.merge(df_atf2,\n",
    "                 df_wtf[['dt','LandAverageTemperature_F', 'LandMaxTemperature_F', 'LandAndOceanAverageTemperature_F']],\n",
    "                 on='dt', \n",
    "                 how='left')"
   ]
  },
  {
   "cell_type": "code",
   "execution_count": 106,
   "metadata": {},
   "outputs": [
    {
     "data": {
      "text/plain": [
       "Text(0.5, 0.95, 'Storm Duration - Land/Ocean Avg Temp')"
      ]
     },
     "execution_count": 106,
     "metadata": {},
     "output_type": "execute_result"
    },
    {
     "data": {
      "image/png": "[encoded data removed]",
      "text/plain": [
       "<Figure size 432x288 with 1 Axes>"
      ]
     },
     "metadata": {
      "needs_background": "light"
     },
     "output_type": "display_data"
    }
   ],
   "source": [
    "plt.scatter(df_atf2['LandAndOceanAverageTemperature_F'],df_atf2['count'],alpha=0.25)\n",
    "plt.xlabel(\" Land-Ocean Temp - Average F\")\n",
    "plt.ylabel(\"Storm Duration - Days\")\n",
    "plt.suptitle('Storm Duration - Land/Ocean Avg Temp', x=0.5, y= 0.95, ha='center', fontsize='xx-large')"
   ]
  },
  {
   "cell_type": "code",
   "execution_count": 107,
   "metadata": {},
   "outputs": [
    {
     "name": "stdout",
     "output_type": "stream",
     "text": [
      "Pearson's correlation:  (0.017112029615489643, 0.42667568631473074) \n",
      " Spearman's correlation:  SpearmanrResult(correlation=-0.023572563266569556, pvalue=0.2734852154545578)\n"
     ]
    }
   ],
   "source": [
    "pearson = pearsonr(df_atf2['LandAndOceanAverageTemperature_F'], df_atf2['count'])\n",
    "spearman = spearmanr(df_atf2['LandAndOceanAverageTemperature_F'], df_atf2['count'])\n",
    "\n",
    "print(\"Pearson's correlation: \", pearson,\"\\n\",\"Spearman's correlation: \", spearman)"
   ]
  },
  {
   "cell_type": "markdown",
   "metadata": {},
   "source": [
    "Because p is greater than 0.05, I can discard the notion that there is a relationship between the the Average Land-Ocean Temperature and storm duration."
   ]
  },
  {
   "cell_type": "markdown",
   "metadata": {},
   "source": [
    "________________________________\n",
    "### Hypothesis Testing"
   ]
  },
  {
   "cell_type": "markdown",
   "metadata": {},
   "source": [
    "For this section, I used Excercise 8.1 as a reference to conduct the following tests:"
   ]
  },
  {
   "cell_type": "code",
   "execution_count": 108,
   "metadata": {},
   "outputs": [],
   "source": [
    "# First we purge out Maximum Wind values under 0 as these are non captured. \n",
    "df_atfs = df_atf[df_atf['Maximum Wind']> 0]\n",
    "df_atfs = df_atfs.reset_index()\n",
    "n = len(df_atfs)\n",
    "df_atfs['year'] = df_atfs['dt'].dt.year\n",
    "df_atfs['cycle'] = df_atfs.apply(cat, axis=1)"
   ]
  },
  {
   "cell_type": "code",
   "execution_count": 109,
   "metadata": {},
   "outputs": [],
   "source": [
    "# This function takes a dataframe and b-number of records in the dataframe. The function then does the \n",
    "# difference of means between the group 1 and group 2 and the Chi Square Test for the Land and Ocean Temperature\n",
    "# average\n",
    "def test(df, n):\n",
    "    df1 = df[df.cycle == '1']\n",
    "    df2 = df[df.cycle == '2']\n",
    "    value_c1 = df1['Maximum Wind'].values\n",
    "    value_c2 = df2['Maximum Wind'].values\n",
    "    t1, p1 = ttest_ind(value_c1, value_c2)\n",
    "    table = pd.crosstab(df['cycle'],df['LandAndOceanAverageTemperature_F'])\n",
    "    stat, p2, dof, expected = chi2_contingency(table)\n",
    "    print(f'Number of Samples: {n}\\t Difference of Means:{p1}\\t Chi-Square Test:{p2}')"
   ]
  },
  {
   "cell_type": "code",
   "execution_count": 110,
   "metadata": {},
   "outputs": [
    {
     "name": "stdout",
     "output_type": "stream",
     "text": [
      "Number of Samples: 2134\t Difference of Means:1.141970759274777e-68\t Chi-Square Test:9.459483135616156e-122\n",
      "Number of Samples: 1067\t Difference of Means:1.5805829459695772e-38\t Chi-Square Test:6.343586469794594e-30\n",
      "Number of Samples: 533\t Difference of Means:6.712596904114102e-18\t Chi-Square Test:2.0759647447178326e-06\n",
      "Number of Samples: 266\t Difference of Means:2.523388936713819e-12\t Chi-Square Test:0.008901858822404468\n",
      "Number of Samples: 133\t Difference of Means:9.938973721552628e-05\t Chi-Square Test:0.2787180390703967\n",
      "Number of Samples: 66\t Difference of Means:7.620909086088289e-07\t Chi-Square Test:0.340193399824705\n",
      "Number of Samples: 33\t Difference of Means:0.24937839884524896\t Chi-Square Test:0.4180195006078752\n"
     ]
    }
   ],
   "source": [
    "for i in range(7):\n",
    "    # Sample is being selected at random using \n",
    "    sample = df_atfs.sample(n)\n",
    "    test(sample, n)\n",
    "    n = int(n/2)"
   ]
  },
  {
   "cell_type": "markdown",
   "metadata": {},
   "source": [
    "As the sample size is reduced, the p-values of these tests grows, indicating that these events can actually occur by chance. "
   ]
  },
  {
   "cell_type": "markdown",
   "metadata": {},
   "source": [
    "_____________________"
   ]
  },
  {
   "cell_type": "markdown",
   "metadata": {},
   "source": [
    "### Regression\n",
    "For this last section, I attempted to create a model that could potentially estimate the number of that could occur in a given year by going off the predicted average Maximum Winds and the yearly averaged Land-Ocean Temperature. Since we are going for a count, then the best option is going to be a Poisson model."
   ]
  },
  {
   "cell_type": "code",
   "execution_count": 123,
   "metadata": {},
   "outputs": [],
   "source": [
    "# First we filter the count of days:\n",
    "day_filter = days_count.filter(['ID','year','count'], axis = 1)\n",
    "day_filter['total'] = 1\n",
    "day_filter = day_filter.rename(columns = {'count':'duration_days'})\n",
    "day_filter = day_filter.groupby(['year']).sum()\n",
    "day_filter = day_filter.reset_index()"
   ]
  },
  {
   "cell_type": "code",
   "execution_count": 124,
   "metadata": {},
   "outputs": [],
   "source": [
    "# Next the Maximum Wind:\n",
    "wind_filter = df_at.filter(['Date','Maximum Wind'], axis = 1)\n",
    "wind_filter = wind_filter.rename(columns = {'Maximum Wind':'Max_Wind'})\n",
    "wind_filter['dt'] = wind_filter['Date'].apply(lambda x: pd.to_datetime(str(x), format='%Y%m%d'))\n",
    "wind_filter['year'] = wind_filter['dt'].dt.year\n",
    "wind_filter = wind_filter.groupby(['year']).mean()\n",
    "wind_filter = wind_filter.reset_index()"
   ]
  },
  {
   "cell_type": "code",
   "execution_count": 125,
   "metadata": {},
   "outputs": [],
   "source": [
    "# Next, the LandAndOceanTemperature\n",
    "wth_filter = df_wtf.filter(['dt', 'LandAndOceanAverageTemperature_F'], axis = 1)\n",
    "wth_filter['year'] = wth_filter['dt'].dt.year\n",
    "wth_filter = wth_filter.groupby(['year']).mean()\n",
    "wth_filter = wth_filter.reset_index()"
   ]
  },
  {
   "cell_type": "code",
   "execution_count": 126,
   "metadata": {},
   "outputs": [],
   "source": [
    "# left joining day_filter and wind_filter\n",
    "merge_1 = pd.merge(day_filter,\n",
    "                 wind_filter[['year','Max_Wind']],\n",
    "                 on='year', \n",
    "                 how='left')"
   ]
  },
  {
   "cell_type": "code",
   "execution_count": 130,
   "metadata": {},
   "outputs": [],
   "source": [
    "# final left join to wth_filter\n",
    "results = pd.merge(merge_1,\n",
    "                 wth_filter[['year','LandAndOceanAverageTemperature_F']],\n",
    "                 on='year', \n",
    "                 how='left')"
   ]
  },
  {
   "cell_type": "code",
   "execution_count": 128,
   "metadata": {},
   "outputs": [
    {
     "data": {
      "text/html": [
       "<div>\n",
       "<style scoped>\n",
       "    .dataframe tbody tr th:only-of-type {\n",
       "        vertical-align: middle;\n",
       "    }\n",
       "\n",
       "    .dataframe tbody tr th {\n",
       "        vertical-align: top;\n",
       "    }\n",
       "\n",
       "    .dataframe thead th {\n",
       "        text-align: right;\n",
       "    }\n",
       "</style>\n",
       "<table border=\"1\" class=\"dataframe\">\n",
       "  <thead>\n",
       "    <tr style=\"text-align: right;\">\n",
       "      <th></th>\n",
       "      <th>year</th>\n",
       "      <th>duration_days</th>\n",
       "      <th>total</th>\n",
       "      <th>Max_Wind</th>\n",
       "      <th>LandAndOceanAverageTemperature_F</th>\n",
       "    </tr>\n",
       "  </thead>\n",
       "  <tbody>\n",
       "    <tr>\n",
       "      <th>0</th>\n",
       "      <td>1851</td>\n",
       "      <td>26.0</td>\n",
       "      <td>6</td>\n",
       "      <td>59.897959</td>\n",
       "      <td>61.23884</td>\n",
       "    </tr>\n",
       "    <tr>\n",
       "      <th>1</th>\n",
       "      <td>1852</td>\n",
       "      <td>34.0</td>\n",
       "      <td>5</td>\n",
       "      <td>72.462687</td>\n",
       "      <td>60.66920</td>\n",
       "    </tr>\n",
       "    <tr>\n",
       "      <th>2</th>\n",
       "      <td>1853</td>\n",
       "      <td>29.0</td>\n",
       "      <td>8</td>\n",
       "      <td>84.100000</td>\n",
       "      <td>60.56300</td>\n",
       "    </tr>\n",
       "    <tr>\n",
       "      <th>3</th>\n",
       "      <td>1854</td>\n",
       "      <td>16.0</td>\n",
       "      <td>5</td>\n",
       "      <td>70.833333</td>\n",
       "      <td>61.01105</td>\n",
       "    </tr>\n",
       "    <tr>\n",
       "      <th>4</th>\n",
       "      <td>1855</td>\n",
       "      <td>11.0</td>\n",
       "      <td>5</td>\n",
       "      <td>71.142857</td>\n",
       "      <td>61.26260</td>\n",
       "    </tr>\n",
       "  </tbody>\n",
       "</table>\n",
       "</div>"
      ],
      "text/plain": [
       "   year  duration_days  total   Max_Wind  LandAndOceanAverageTemperature_F\n",
       "0  1851           26.0      6  59.897959                          61.23884\n",
       "1  1852           34.0      5  72.462687                          60.66920\n",
       "2  1853           29.0      8  84.100000                          60.56300\n",
       "3  1854           16.0      5  70.833333                          61.01105\n",
       "4  1855           11.0      5  71.142857                          61.26260"
      ]
     },
     "execution_count": 128,
     "metadata": {},
     "output_type": "execute_result"
    }
   ],
   "source": [
    "results.head()"
   ]
  },
  {
   "cell_type": "code",
   "execution_count": 131,
   "metadata": {},
   "outputs": [
    {
     "name": "stdout",
     "output_type": "stream",
     "text": [
      "Optimization terminated successfully.\n",
      "         Current function value: 2.324027\n",
      "         Iterations 5\n"
     ]
    },
    {
     "data": {
      "text/html": [
       "<table class=\"simpletable\">\n",
       "<caption>Poisson Regression Results</caption>\n",
       "<tr>\n",
       "  <th>Dep. Variable:</th>       <td>total</td>      <th>  No. Observations:  </th>  <td>   165</td>  \n",
       "</tr>\n",
       "<tr>\n",
       "  <th>Model:</th>              <td>Poisson</td>     <th>  Df Residuals:      </th>  <td>   161</td>  \n",
       "</tr>\n",
       "<tr>\n",
       "  <th>Method:</th>               <td>MLE</td>       <th>  Df Model:          </th>  <td>     3</td>  \n",
       "</tr>\n",
       "<tr>\n",
       "  <th>Date:</th>          <td>Sat, 16 Nov 2019</td> <th>  Pseudo R-squ.:     </th>  <td>0.3185</td>  \n",
       "</tr>\n",
       "<tr>\n",
       "  <th>Time:</th>              <td>18:43:27</td>     <th>  Log-Likelihood:    </th> <td> -383.46</td> \n",
       "</tr>\n",
       "<tr>\n",
       "  <th>converged:</th>           <td>True</td>       <th>  LL-Null:           </th> <td> -562.65</td> \n",
       "</tr>\n",
       "<tr>\n",
       "  <th> </th>                      <td> </td>        <th>  LLR p-value:       </th> <td>2.302e-77</td>\n",
       "</tr>\n",
       "</table>\n",
       "<table class=\"simpletable\">\n",
       "<tr>\n",
       "                  <td></td>                    <th>coef</th>     <th>std err</th>      <th>z</th>      <th>P>|z|</th>  <th>[0.025</th>    <th>0.975]</th>  \n",
       "</tr>\n",
       "<tr>\n",
       "  <th>Intercept</th>                        <td>    2.3861</td> <td>    2.231</td> <td>    1.070</td> <td> 0.285</td> <td>   -1.987</td> <td>    6.759</td>\n",
       "</tr>\n",
       "<tr>\n",
       "  <th>Max_Wind</th>                         <td>   -0.0071</td> <td>    0.002</td> <td>   -3.627</td> <td> 0.000</td> <td>   -0.011</td> <td>   -0.003</td>\n",
       "</tr>\n",
       "<tr>\n",
       "  <th>LandAndOceanAverageTemperature_F</th> <td>   -0.0059</td> <td>    0.037</td> <td>   -0.162</td> <td> 0.871</td> <td>   -0.078</td> <td>    0.066</td>\n",
       "</tr>\n",
       "<tr>\n",
       "  <th>duration_days</th>                    <td>    0.0083</td> <td>    0.001</td> <td>   16.544</td> <td> 0.000</td> <td>    0.007</td> <td>    0.009</td>\n",
       "</tr>\n",
       "</table>"
      ],
      "text/plain": [
       "<class 'statsmodels.iolib.summary.Summary'>\n",
       "\"\"\"\n",
       "                          Poisson Regression Results                          \n",
       "==============================================================================\n",
       "Dep. Variable:                  total   No. Observations:                  165\n",
       "Model:                        Poisson   Df Residuals:                      161\n",
       "Method:                           MLE   Df Model:                            3\n",
       "Date:                Sat, 16 Nov 2019   Pseudo R-squ.:                  0.3185\n",
       "Time:                        18:43:27   Log-Likelihood:                -383.46\n",
       "converged:                       True   LL-Null:                       -562.65\n",
       "                                        LLR p-value:                 2.302e-77\n",
       "====================================================================================================\n",
       "                                       coef    std err          z      P>|z|      [0.025      0.975]\n",
       "----------------------------------------------------------------------------------------------------\n",
       "Intercept                            2.3861      2.231      1.070      0.285      -1.987       6.759\n",
       "Max_Wind                            -0.0071      0.002     -3.627      0.000      -0.011      -0.003\n",
       "LandAndOceanAverageTemperature_F    -0.0059      0.037     -0.162      0.871      -0.078       0.066\n",
       "duration_days                        0.0083      0.001     16.544      0.000       0.007       0.009\n",
       "====================================================================================================\n",
       "\"\"\""
      ]
     },
     "execution_count": 131,
     "metadata": {},
     "output_type": "execute_result"
    }
   ],
   "source": [
    "formula='total ~ Max_Wind + LandAndOceanAverageTemperature_F + duration_days'\n",
    "model = smf.poisson(formula, data=results)\n",
    "results = model.fit()\n",
    "results.summary() "
   ]
  },
  {
   "cell_type": "code",
   "execution_count": 134,
   "metadata": {},
   "outputs": [
    {
     "data": {
      "text/plain": [
       "0    6.154642\n",
       "dtype: float64"
      ]
     },
     "execution_count": 134,
     "metadata": {},
     "output_type": "execute_result"
    }
   ],
   "source": [
    "# Testing the model\n",
    "columns = ['Max_Wind', 'LandAndOceanAverageTemperature_F', 'duration_days']\n",
    "new = pd.DataFrame([[60, 61, 26]], columns=columns)\n",
    "results.predict(new)"
   ]
  },
  {
   "cell_type": "markdown",
   "metadata": {},
   "source": [
    "The result provided above matches with the first record provided in the dataframe. "
   ]
  },
  {
   "cell_type": "code",
   "execution_count": null,
   "metadata": {},
   "outputs": [],
   "source": []
  }
 ],
 "metadata": {
  "kernelspec": {
   "display_name": "Python 3",
   "language": "python",
   "name": "python3"
  },
  "language_info": {
   "codemirror_mode": {
    "name": "ipython",
    "version": 3
   },
   "file_extension": ".py",
   "mimetype": "text/x-python",
   "name": "python",
   "nbconvert_exporter": "python",
   "pygments_lexer": "ipython3",
   "version": "3.7.2"
  }
 },
 "nbformat": 4,
 "nbformat_minor": 2
}
